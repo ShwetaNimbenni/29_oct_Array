{
 "cells": [
  {
   "cell_type": "raw",
   "id": "df1336ea-4479-4823-b5c6-37b6358553c3",
   "metadata": {},
   "source": [
    "1. Given an array, check if it contains any duplicates or not.\n",
    "arr = [1, 2, 4, 2, 5, 9]\n",
    "Output = True"
   ]
  },
  {
   "cell_type": "code",
   "execution_count": 1,
   "id": "bf6e8663-606e-43dd-a49e-2d20c23cecfc",
   "metadata": {},
   "outputs": [
    {
     "name": "stdout",
     "output_type": "stream",
     "text": [
      "True\n"
     ]
    }
   ],
   "source": [
    "arr = [1, 2, 4, 2, 5, 9]\n",
    "\n",
    "def has_duplicates(arr):\n",
    "    # Compare the length of the array and the set\n",
    "    return len(arr) != len(set(arr))\n",
    "\n",
    "output = has_duplicates(arr)\n",
    "print(output)"
   ]
  },
  {
   "cell_type": "raw",
   "id": "4cdc076b-25cc-4e21-b132-1d7f968f3609",
   "metadata": {},
   "source": [
    "2. Given an array and an integer k, rotate the array to the right by k steps.\n",
    "arr = [1, 2, 3, 4, 5, 6, 7] k = 3\n",
    "Output = [5, 6, 7, 1, 2, 3, 4]"
   ]
  },
  {
   "cell_type": "code",
   "execution_count": 2,
   "id": "c689b037-2ca3-469a-b340-e8e529b452b1",
   "metadata": {},
   "outputs": [
    {
     "name": "stdout",
     "output_type": "stream",
     "text": [
      "[5, 6, 7, 1, 2, 3, 4]\n"
     ]
    }
   ],
   "source": [
    "def rotate_array(arr, k):\n",
    "    # Calculate the effective rotation index\n",
    "    k = k % len(arr)\n",
    "    \n",
    "    # Rotate the array using slicing\n",
    "    rotated_arr = arr[-k:] + arr[:-k]\n",
    "\n",
    "    return rotated_arr\n",
    "\n",
    "arr = [1, 2, 3, 4, 5, 6, 7]\n",
    "k = 3\n",
    "\n",
    "output = rotate_array(arr, k)\n",
    "print(output)"
   ]
  },
  {
   "cell_type": "raw",
   "id": "90d8dd2c-3821-42f2-a5f3-7698a04e4b01",
   "metadata": {},
   "source": [
    "3. Reverse the given array in-place, means without using any extra data structure.\n",
    "arr = [2, 4, 5, 7, 9, 12]\n",
    "Output = [12, 9, 7, 5, 4, 2]"
   ]
  },
  {
   "cell_type": "code",
   "execution_count": 3,
   "id": "a1349889-2b05-4a6a-869c-7bcc0b4aabba",
   "metadata": {},
   "outputs": [
    {
     "name": "stdout",
     "output_type": "stream",
     "text": [
      "[12, 9, 7, 5, 4, 2]\n"
     ]
    }
   ],
   "source": [
    "def reverse_array_in_place(arr):\n",
    "    start = 0\n",
    "    end = len(arr) - 1\n",
    "\n",
    "    while start < end:\n",
    "        # Swap elements at the start and end indices\n",
    "        arr[start], arr[end] = arr[end], arr[start]\n",
    "        \n",
    "        # Move towards the center of the array\n",
    "        start += 1\n",
    "        end -= 1\n",
    "\n",
    "# Example usage:\n",
    "arr = [2, 4, 5, 7, 9, 12]\n",
    "reverse_array_in_place(arr)\n",
    "print(arr)"
   ]
  },
  {
   "cell_type": "raw",
   "id": "74939385-6fd0-421d-891f-ce8465c6e1ee",
   "metadata": {},
   "source": [
    "4. Given an array of integers, find the maximum element in an array\n",
    "arr = [10, 5, 20, 8, 15]\n",
    "Output = 20"
   ]
  },
  {
   "cell_type": "code",
   "execution_count": 4,
   "id": "6d7d6da7-08a4-40b6-a28a-f9494c020714",
   "metadata": {},
   "outputs": [
    {
     "name": "stdout",
     "output_type": "stream",
     "text": [
      "20\n"
     ]
    }
   ],
   "source": [
    "arr = [10, 5, 20, 8, 15]\n",
    "\n",
    "max_element = max(arr)\n",
    "\n",
    "print(max_element)"
   ]
  },
  {
   "cell_type": "raw",
   "id": "64cfa684-4e9d-4063-abef-abca284c2a72",
   "metadata": {},
   "source": [
    "5. Given a sorted array, remove the duplicate element without using any extra data structure.\n",
    "arr = [1, 1, 2, 2, 2, 3, 3, 4, 4, 4, 5, 5]\n",
    "Output = [1, 2, 3, 4, 5]"
   ]
  },
  {
   "cell_type": "code",
   "execution_count": 5,
   "id": "f9e981d7-5413-4d66-91f4-f84aaed88ab6",
   "metadata": {},
   "outputs": [
    {
     "name": "stdout",
     "output_type": "stream",
     "text": [
      "[1, 2, 3, 4, 5, 3, 3, 4, 4, 4, 5, 5]\n"
     ]
    }
   ],
   "source": [
    "def remove_duplicates_in_place(arr):\n",
    "    if not arr:\n",
    "        return []\n",
    "\n",
    "    # Initialize two pointers\n",
    "    unique_index = 0\n",
    "\n",
    "    # Iterate through the array with the second pointer\n",
    "    for i in range(1, len(arr)):\n",
    "        # If the current element is different from the previous unique element\n",
    "        if arr[i] != arr[unique_index]:\n",
    "            # Update the unique element and move the unique pointer\n",
    "            unique_index += 1\n",
    "            arr[unique_index] = arr[i]\n",
    "\n",
    "    # Slice the array to remove any remaining elements\n",
    "    arr = arr[:unique_index + 1]\n",
    "\n",
    "# Example usage:\n",
    "arr = [1, 1, 2, 2, 2, 3, 3, 4, 4, 4, 5, 5]\n",
    "remove_duplicates_in_place(arr)\n",
    "print(arr)\n"
   ]
  },
  {
   "cell_type": "code",
   "execution_count": null,
   "id": "e379d78e-4731-43de-9c77-178648d8a0e4",
   "metadata": {},
   "outputs": [],
   "source": []
  }
 ],
 "metadata": {
  "kernelspec": {
   "display_name": "Python 3 (ipykernel)",
   "language": "python",
   "name": "python3"
  },
  "language_info": {
   "codemirror_mode": {
    "name": "ipython",
    "version": 3
   },
   "file_extension": ".py",
   "mimetype": "text/x-python",
   "name": "python",
   "nbconvert_exporter": "python",
   "pygments_lexer": "ipython3",
   "version": "3.10.8"
  }
 },
 "nbformat": 4,
 "nbformat_minor": 5
}
